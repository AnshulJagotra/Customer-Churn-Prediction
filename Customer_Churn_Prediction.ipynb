{
  "nbformat": 4,
  "nbformat_minor": 0,
  "metadata": {
    "colab": {
      "provenance": [],
      "authorship_tag": "ABX9TyPzEKwizqKdcU7Jk62XE+6l",
      "include_colab_link": true
    },
    "kernelspec": {
      "name": "python3",
      "display_name": "Python 3"
    },
    "language_info": {
      "name": "python"
    }
  },
  "cells": [
    {
      "cell_type": "markdown",
      "metadata": {
        "id": "view-in-github",
        "colab_type": "text"
      },
      "source": [
        "<a href=\"https://colab.research.google.com/github/AnshulJagotra/Customer-Churn-Prediction/blob/main/Customer_Churn_Prediction.ipynb\" target=\"_parent\"><img src=\"https://colab.research.google.com/assets/colab-badge.svg\" alt=\"Open In Colab\"/></a>"
      ]
    },
    {
      "cell_type": "code",
      "execution_count": 1,
      "metadata": {
        "colab": {
          "base_uri": "https://localhost:8080/",
          "height": 1000
        },
        "id": "kf-eVKhYWLHe",
        "outputId": "f07dcac6-b76e-47e1-9e11-3991b849777f"
      },
      "outputs": [
        {
          "output_type": "stream",
          "name": "stdout",
          "text": [
            "   customerID  gender  SeniorCitizen Partner Dependents  tenure PhoneService  \\\n",
            "0  7590-VHVEG  Female              0     Yes         No       1           No   \n",
            "1  5575-GNVDE    Male              0      No         No      34          Yes   \n",
            "2  3668-QPYBK    Male              0      No         No       2          Yes   \n",
            "3  7795-CFOCW    Male              0      No         No      45           No   \n",
            "4  9237-HQITU  Female              0      No         No       2          Yes   \n",
            "\n",
            "      MultipleLines InternetService OnlineSecurity  ... DeviceProtection  \\\n",
            "0  No phone service             DSL             No  ...               No   \n",
            "1                No             DSL            Yes  ...              Yes   \n",
            "2                No             DSL            Yes  ...               No   \n",
            "3  No phone service             DSL            Yes  ...              Yes   \n",
            "4                No     Fiber optic             No  ...               No   \n",
            "\n",
            "  TechSupport StreamingTV StreamingMovies        Contract PaperlessBilling  \\\n",
            "0          No          No              No  Month-to-month              Yes   \n",
            "1          No          No              No        One year               No   \n",
            "2          No          No              No  Month-to-month              Yes   \n",
            "3         Yes          No              No        One year               No   \n",
            "4          No          No              No  Month-to-month              Yes   \n",
            "\n",
            "               PaymentMethod MonthlyCharges  TotalCharges Churn  \n",
            "0           Electronic check          29.85         29.85    No  \n",
            "1               Mailed check          56.95        1889.5    No  \n",
            "2               Mailed check          53.85        108.15   Yes  \n",
            "3  Bank transfer (automatic)          42.30       1840.75    No  \n",
            "4           Electronic check          70.70        151.65   Yes  \n",
            "\n",
            "[5 rows x 21 columns]\n",
            "   customerID  gender  SeniorCitizen  Partner  Dependents  tenure  \\\n",
            "0  7590-VHVEG       0              0        1           0       1   \n",
            "1  5575-GNVDE       1              0        0           0      34   \n",
            "2  3668-QPYBK       1              0        0           0       2   \n",
            "3  7795-CFOCW       1              0        0           0      45   \n",
            "4  9237-HQITU       0              0        0           0       2   \n",
            "\n",
            "   PhoneService  MultipleLines  InternetService  OnlineSecurity  ...  \\\n",
            "0             0              1                0               0  ...   \n",
            "1             1              0                0               2  ...   \n",
            "2             1              0                0               2  ...   \n",
            "3             0              1                0               2  ...   \n",
            "4             1              0                1               0  ...   \n",
            "\n",
            "   DeviceProtection  TechSupport  StreamingTV  StreamingMovies  Contract  \\\n",
            "0                 0            0            0                0         0   \n",
            "1                 2            0            0                0         1   \n",
            "2                 0            0            0                0         0   \n",
            "3                 2            2            0                0         1   \n",
            "4                 0            0            0                0         0   \n",
            "\n",
            "   PaperlessBilling  PaymentMethod  MonthlyCharges  TotalCharges  Churn  \n",
            "0                 1              2           29.85          2505      0  \n",
            "1                 0              3           56.95          1466      0  \n",
            "2                 1              3           53.85           157      1  \n",
            "3                 0              0           42.30          1400      0  \n",
            "4                 1              2           70.70           925      1  \n",
            "\n",
            "[5 rows x 21 columns]\n",
            "\n",
            "Accuracy: 0.79649787032655\n",
            "\n",
            "Classification Report:\n",
            "               precision    recall  f1-score   support\n",
            "\n",
            "           0       0.83      0.91      0.87      1539\n",
            "           1       0.67      0.49      0.57       574\n",
            "\n",
            "    accuracy                           0.80      2113\n",
            "   macro avg       0.75      0.70      0.72      2113\n",
            "weighted avg       0.79      0.80      0.79      2113\n",
            "\n"
          ]
        },
        {
          "output_type": "display_data",
          "data": {
            "text/plain": [
              "<Figure size 640x480 with 2 Axes>"
            ],
            "image/png": "[encoded data removed]"
          },
          "metadata": {}
        }
      ],
      "source": [
        "# =============================\n",
        "# 1. Import Libraries\n",
        "# =============================\n",
        "import pandas as pd\n",
        "import seaborn as sns\n",
        "import matplotlib.pyplot as plt\n",
        "from sklearn.model_selection import train_test_split\n",
        "from sklearn.preprocessing import LabelEncoder\n",
        "from sklearn.ensemble import RandomForestClassifier\n",
        "from sklearn.metrics import accuracy_score, confusion_matrix, classification_report\n",
        "\n",
        "# =============================\n",
        "# 2. Load Dataset\n",
        "# =============================\n",
        "df = pd.read_csv(\"/content/WA_Fn-UseC_-Telco-Customer-Churn.csv\")\n",
        "print(df.head())\n",
        "\n",
        "# =============================\n",
        "# 3. Preprocessing\n",
        "# =============================\n",
        "# Encode categorical columns\n",
        "le = LabelEncoder()\n",
        "for col in df.columns:\n",
        "    if df[col].dtype == \"object\" and col != \"customerID\":\n",
        "        df[col] = le.fit_transform(df[col])\n",
        "\n",
        "print(df.head())\n",
        "\n",
        "# Features & Target\n",
        "X = df.drop([\"customerID\", \"Churn\"], axis=1)\n",
        "y = df[\"Churn\"]\n",
        "\n",
        "# Train-Test Split\n",
        "X_train, X_test, y_train, y_test = train_test_split(X, y, test_size=0.3, random_state=42)\n",
        "\n",
        "# =============================\n",
        "# 4. Model Training\n",
        "# =============================\n",
        "model = RandomForestClassifier(n_estimators=100, random_state=42)\n",
        "model.fit(X_train, y_train)\n",
        "\n",
        "# =============================\n",
        "# 5. Predictions & Evaluation\n",
        "# =============================\n",
        "y_pred = model.predict(X_test)\n",
        "\n",
        "print(\"\\nAccuracy:\", accuracy_score(y_test, y_pred))\n",
        "print(\"\\nClassification Report:\\n\", classification_report(y_test, y_pred))\n",
        "\n",
        "# =============================\n",
        "# 6. Visualization\n",
        "# =============================\n",
        "cm = confusion_matrix(y_test, y_pred)\n",
        "sns.heatmap(cm, annot=True, fmt=\"d\", cmap=\"Blues\", xticklabels=[\"No Churn\",\"Churn\"], yticklabels=[\"No Churn\",\"Churn\"])\n",
        "plt.title(\"Confusion Matrix\")\n",
        "plt.show()\n"
      ]
    }
  ]
}